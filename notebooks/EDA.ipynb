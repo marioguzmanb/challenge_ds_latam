{
 "cells": [
  {
   "cell_type": "markdown",
   "id": "e5754552-71dc-40b6-85b8-7b44d990c7c2",
   "metadata": {},
   "source": [
    "# Objetivo\n",
    "\n",
    "Analizar la base de datos **dataset_SCL.csv** que contiene información de los vuelos, en el dataset se encuentran las siguiente columnas con su descripción:\n",
    "\n",
    "| Variable | Descripción |\n",
    "| :- | :- |\n",
    "| **Fecha-I**  | Fecha y hora programada del vuelo.\n",
    "| **Vlo-I** | Número de vuelo programado.\n",
    "| **Ori-I** | Código de ciudad de origen programado.\n",
    "| **Des-I** | Código de ciudad de destino programado.\n",
    "| **Emp-I** | Código aerolínea de vuelo programado.\n",
    "| **Fecha-O** | Fecha y hora de operación del vuelo.\n",
    "| **Vlo-O** | Número de vuelo de operación del vuelo.\n",
    "| **Ori-O** | Código de ciudad de origen de operación.\n",
    "| **Des-O** | Código de ciudad de destino de operación.\n",
    "| **Emp-O** | Código aerolínea de vuelo operado.\n",
    "| **DIA** | Día del mes de operación del vuelo.\n",
    "| **MES** | Número de mes de operación del vuelo.\n",
    "| **AÑO** | Año de operación del vuelo.\n",
    "| **DIANOM** | Día de la semana de operación del vuelo.\n",
    "| **TIPOVUELO** | Tipo de vuelo, I = Internacional, N = Nacional\n",
    "| **OPERA** | Nombre de aerolínea que opera.\n",
    "| **SIGLAORI** | Nombre de ciudad de origen.\n",
    "| **SIGLADES** | Nombre ciudad destino."
   ]
  },
  {
   "cell_type": "code",
   "execution_count": 2,
   "id": "a7158364-c782-477e-8500-e5eae783d228",
   "metadata": {},
   "outputs": [],
   "source": [
    "# Librerías a utilizar\n",
    "import os\n",
    "import pandas as pd\n",
    "import numpy as np\n",
    "import matplotlib.pyplot as plt\n",
    "import seaborn as sns\n",
    "from datetime import datetime\n"
   ]
  },
  {
   "cell_type": "code",
   "execution_count": null,
   "id": "3bb194a7-ae5e-432e-aba0-d567f0290d4d",
   "metadata": {},
   "outputs": [],
   "source": [
    "def diff_minutes(start,end):\n",
    "    \"\"\"\n",
    "    Calcula la diferencia en minutos entre dos fechas\n",
    "    Argumentos:\n",
    "        - start: str = Fecha en formato %Y-%m-%d %H:%M:%S\n",
    "        - end: str = Fecha en formato %Y-%m-%d %H:%M:%S\n",
    "    Salida:\n",
    "        - minutos de diferencia (float)\n",
    "        \"\"\"\n",
    "    start_norm = datetime.strptime(start,\"%Y-%m-%d %H:%M:%S\")\n",
    "    end_norm = datetime.strptime(end,\"%Y-%m-%d %H:%M:%S\")\n",
    "    minutes_diff = (end_norm - start_norm).total_seconds() / 60.0\n",
    "    return minutes_diff"
   ]
  },
  {
   "cell_type": "code",
   "execution_count": 3,
   "id": "b9948dea-ae9e-47ac-93f0-a97835d9640f",
   "metadata": {},
   "outputs": [],
   "source": [
    "# Cambio de directorio\n",
    "os.chdir(\"..\")"
   ]
  },
  {
   "cell_type": "code",
   "execution_count": 70,
   "id": "db1088c9-ed5e-4a54-994a-a7980dd1237f",
   "metadata": {},
   "outputs": [
    {
     "name": "stderr",
     "output_type": "stream",
     "text": [
      "/var/folders/kt/xwwd0rh10zsbnr8m5w8dm9gh0000gs/T/ipykernel_45275/3288715273.py:2: DtypeWarning: Columns (1,6) have mixed types. Specify dtype option on import or set low_memory=False.\n",
      "  df_scl = pd.read_csv(\"data/dataset_SCL.csv\")\n"
     ]
    }
   ],
   "source": [
    "# Lectura de la data\n",
    "df_scl = pd.read_csv(\"data/dataset_SCL.csv\")"
   ]
  },
  {
   "cell_type": "code",
   "execution_count": 71,
   "id": "c8062faa-5bd0-48dd-a0d7-e64b4678b100",
   "metadata": {},
   "outputs": [],
   "source": [
    "# Normalización de las columnas\n",
    "df_scl.columns = [col.upper().replace(\"-\",\"_\") for col in df_scl.columns]\n",
    "df_scl = df_scl.rename({\"AÑO\":\"YEAR\"},axis=1)"
   ]
  },
  {
   "cell_type": "code",
   "execution_count": 72,
   "id": "0c3297d7-5e12-446d-9020-bafb4aed78d8",
   "metadata": {},
   "outputs": [
    {
     "data": {
      "text/plain": [
       "(68206, 18)"
      ]
     },
     "execution_count": 72,
     "metadata": {},
     "output_type": "execute_result"
    }
   ],
   "source": [
    "# Revisar cantidad de filas y columnas del dataset\n",
    "df_scl.shape"
   ]
  },
  {
   "cell_type": "code",
   "execution_count": 76,
   "id": "5f20c45f-20d4-4aca-b7ec-54d45488ac1e",
   "metadata": {},
   "outputs": [
    {
     "data": {
      "text/html": [
       "<div>\n",
       "<style scoped>\n",
       "    .dataframe tbody tr th:only-of-type {\n",
       "        vertical-align: middle;\n",
       "    }\n",
       "\n",
       "    .dataframe tbody tr th {\n",
       "        vertical-align: top;\n",
       "    }\n",
       "\n",
       "    .dataframe thead th {\n",
       "        text-align: right;\n",
       "    }\n",
       "</style>\n",
       "<table border=\"1\" class=\"dataframe\">\n",
       "  <thead>\n",
       "    <tr style=\"text-align: right;\">\n",
       "      <th></th>\n",
       "      <th>FECHA_I</th>\n",
       "      <th>VLO_I</th>\n",
       "      <th>ORI_I</th>\n",
       "      <th>DES_I</th>\n",
       "      <th>EMP_I</th>\n",
       "      <th>FECHA_O</th>\n",
       "      <th>VLO_O</th>\n",
       "      <th>ORI_O</th>\n",
       "      <th>DES_O</th>\n",
       "      <th>EMP_O</th>\n",
       "      <th>DIA</th>\n",
       "      <th>MES</th>\n",
       "      <th>YEAR</th>\n",
       "      <th>DIANOM</th>\n",
       "      <th>TIPOVUELO</th>\n",
       "      <th>OPERA</th>\n",
       "      <th>SIGLAORI</th>\n",
       "      <th>SIGLADES</th>\n",
       "      <th>dif_min</th>\n",
       "    </tr>\n",
       "  </thead>\n",
       "  <tbody>\n",
       "    <tr>\n",
       "      <th>0</th>\n",
       "      <td>2017-01-01 23:30:00</td>\n",
       "      <td>226</td>\n",
       "      <td>SCEL</td>\n",
       "      <td>KMIA</td>\n",
       "      <td>AAL</td>\n",
       "      <td>2017-01-01 23:33:00</td>\n",
       "      <td>226</td>\n",
       "      <td>SCEL</td>\n",
       "      <td>KMIA</td>\n",
       "      <td>AAL</td>\n",
       "      <td>1</td>\n",
       "      <td>1</td>\n",
       "      <td>2017</td>\n",
       "      <td>Domingo</td>\n",
       "      <td>I</td>\n",
       "      <td>American Airlines</td>\n",
       "      <td>Santiago</td>\n",
       "      <td>Miami</td>\n",
       "      <td>3.0</td>\n",
       "    </tr>\n",
       "    <tr>\n",
       "      <th>1</th>\n",
       "      <td>2017-01-02 23:30:00</td>\n",
       "      <td>226</td>\n",
       "      <td>SCEL</td>\n",
       "      <td>KMIA</td>\n",
       "      <td>AAL</td>\n",
       "      <td>2017-01-02 23:39:00</td>\n",
       "      <td>226</td>\n",
       "      <td>SCEL</td>\n",
       "      <td>KMIA</td>\n",
       "      <td>AAL</td>\n",
       "      <td>2</td>\n",
       "      <td>1</td>\n",
       "      <td>2017</td>\n",
       "      <td>Lunes</td>\n",
       "      <td>I</td>\n",
       "      <td>American Airlines</td>\n",
       "      <td>Santiago</td>\n",
       "      <td>Miami</td>\n",
       "      <td>9.0</td>\n",
       "    </tr>\n",
       "    <tr>\n",
       "      <th>2</th>\n",
       "      <td>2017-01-03 23:30:00</td>\n",
       "      <td>226</td>\n",
       "      <td>SCEL</td>\n",
       "      <td>KMIA</td>\n",
       "      <td>AAL</td>\n",
       "      <td>2017-01-03 23:39:00</td>\n",
       "      <td>226</td>\n",
       "      <td>SCEL</td>\n",
       "      <td>KMIA</td>\n",
       "      <td>AAL</td>\n",
       "      <td>3</td>\n",
       "      <td>1</td>\n",
       "      <td>2017</td>\n",
       "      <td>Martes</td>\n",
       "      <td>I</td>\n",
       "      <td>American Airlines</td>\n",
       "      <td>Santiago</td>\n",
       "      <td>Miami</td>\n",
       "      <td>9.0</td>\n",
       "    </tr>\n",
       "    <tr>\n",
       "      <th>3</th>\n",
       "      <td>2017-01-04 23:30:00</td>\n",
       "      <td>226</td>\n",
       "      <td>SCEL</td>\n",
       "      <td>KMIA</td>\n",
       "      <td>AAL</td>\n",
       "      <td>2017-01-04 23:33:00</td>\n",
       "      <td>226</td>\n",
       "      <td>SCEL</td>\n",
       "      <td>KMIA</td>\n",
       "      <td>AAL</td>\n",
       "      <td>4</td>\n",
       "      <td>1</td>\n",
       "      <td>2017</td>\n",
       "      <td>Miercoles</td>\n",
       "      <td>I</td>\n",
       "      <td>American Airlines</td>\n",
       "      <td>Santiago</td>\n",
       "      <td>Miami</td>\n",
       "      <td>3.0</td>\n",
       "    </tr>\n",
       "    <tr>\n",
       "      <th>4</th>\n",
       "      <td>2017-01-05 23:30:00</td>\n",
       "      <td>226</td>\n",
       "      <td>SCEL</td>\n",
       "      <td>KMIA</td>\n",
       "      <td>AAL</td>\n",
       "      <td>2017-01-05 23:28:00</td>\n",
       "      <td>226</td>\n",
       "      <td>SCEL</td>\n",
       "      <td>KMIA</td>\n",
       "      <td>AAL</td>\n",
       "      <td>5</td>\n",
       "      <td>1</td>\n",
       "      <td>2017</td>\n",
       "      <td>Jueves</td>\n",
       "      <td>I</td>\n",
       "      <td>American Airlines</td>\n",
       "      <td>Santiago</td>\n",
       "      <td>Miami</td>\n",
       "      <td>-2.0</td>\n",
       "    </tr>\n",
       "  </tbody>\n",
       "</table>\n",
       "</div>"
      ],
      "text/plain": [
       "               FECHA_I VLO_I ORI_I DES_I EMP_I              FECHA_O VLO_O  \\\n",
       "0  2017-01-01 23:30:00   226  SCEL  KMIA   AAL  2017-01-01 23:33:00   226   \n",
       "1  2017-01-02 23:30:00   226  SCEL  KMIA   AAL  2017-01-02 23:39:00   226   \n",
       "2  2017-01-03 23:30:00   226  SCEL  KMIA   AAL  2017-01-03 23:39:00   226   \n",
       "3  2017-01-04 23:30:00   226  SCEL  KMIA   AAL  2017-01-04 23:33:00   226   \n",
       "4  2017-01-05 23:30:00   226  SCEL  KMIA   AAL  2017-01-05 23:28:00   226   \n",
       "\n",
       "  ORI_O DES_O EMP_O  DIA  MES  YEAR     DIANOM TIPOVUELO              OPERA  \\\n",
       "0  SCEL  KMIA   AAL    1    1  2017    Domingo         I  American Airlines   \n",
       "1  SCEL  KMIA   AAL    2    1  2017      Lunes         I  American Airlines   \n",
       "2  SCEL  KMIA   AAL    3    1  2017     Martes         I  American Airlines   \n",
       "3  SCEL  KMIA   AAL    4    1  2017  Miercoles         I  American Airlines   \n",
       "4  SCEL  KMIA   AAL    5    1  2017     Jueves         I  American Airlines   \n",
       "\n",
       "   SIGLAORI SIGLADES  dif_min  \n",
       "0  Santiago    Miami      3.0  \n",
       "1  Santiago    Miami      9.0  \n",
       "2  Santiago    Miami      9.0  \n",
       "3  Santiago    Miami      3.0  \n",
       "4  Santiago    Miami     -2.0  "
      ]
     },
     "execution_count": 76,
     "metadata": {},
     "output_type": "execute_result"
    }
   ],
   "source": [
    "df_scl.head()"
   ]
  },
  {
   "cell_type": "code",
   "execution_count": 87,
   "id": "9568400c-2800-45f1-8ff9-a519425d7ce2",
   "metadata": {},
   "outputs": [
    {
     "data": {
      "text/html": [
       "<div>\n",
       "<style scoped>\n",
       "    .dataframe tbody tr th:only-of-type {\n",
       "        vertical-align: middle;\n",
       "    }\n",
       "\n",
       "    .dataframe tbody tr th {\n",
       "        vertical-align: top;\n",
       "    }\n",
       "\n",
       "    .dataframe thead th {\n",
       "        text-align: right;\n",
       "    }\n",
       "</style>\n",
       "<table border=\"1\" class=\"dataframe\">\n",
       "  <thead>\n",
       "    <tr style=\"text-align: right;\">\n",
       "      <th></th>\n",
       "      <th>sigla_ori</th>\n",
       "      <th>conteo</th>\n",
       "    </tr>\n",
       "  </thead>\n",
       "  <tbody>\n",
       "    <tr>\n",
       "      <th>0</th>\n",
       "      <td>Santiago</td>\n",
       "      <td>68206</td>\n",
       "    </tr>\n",
       "  </tbody>\n",
       "</table>\n",
       "</div>"
      ],
      "text/plain": [
       "  sigla_ori  conteo\n",
       "0  Santiago   68206"
      ]
     },
     "execution_count": 87,
     "metadata": {},
     "output_type": "execute_result"
    }
   ],
   "source": [
    "df_scl.SIGLAORI.value_counts().reset_index().rename({\"SIGLAORI\":\"conteo\",\"index\":\"sigla_ori\"},axis=1).head(10)"
   ]
  },
  {
   "cell_type": "code",
   "execution_count": 86,
   "id": "657355e0-60c3-4ad7-aa3f-263c9cdd9d69",
   "metadata": {},
   "outputs": [
    {
     "data": {
      "text/html": [
       "<div>\n",
       "<style scoped>\n",
       "    .dataframe tbody tr th:only-of-type {\n",
       "        vertical-align: middle;\n",
       "    }\n",
       "\n",
       "    .dataframe tbody tr th {\n",
       "        vertical-align: top;\n",
       "    }\n",
       "\n",
       "    .dataframe thead th {\n",
       "        text-align: right;\n",
       "    }\n",
       "</style>\n",
       "<table border=\"1\" class=\"dataframe\">\n",
       "  <thead>\n",
       "    <tr style=\"text-align: right;\">\n",
       "      <th></th>\n",
       "      <th>sigla_des</th>\n",
       "      <th>conteo</th>\n",
       "    </tr>\n",
       "  </thead>\n",
       "  <tbody>\n",
       "    <tr>\n",
       "      <th>0</th>\n",
       "      <td>Buenos Aires</td>\n",
       "      <td>6335</td>\n",
       "    </tr>\n",
       "    <tr>\n",
       "      <th>1</th>\n",
       "      <td>Antofagasta</td>\n",
       "      <td>5786</td>\n",
       "    </tr>\n",
       "    <tr>\n",
       "      <th>2</th>\n",
       "      <td>Lima</td>\n",
       "      <td>5270</td>\n",
       "    </tr>\n",
       "    <tr>\n",
       "      <th>3</th>\n",
       "      <td>Calama</td>\n",
       "      <td>5146</td>\n",
       "    </tr>\n",
       "    <tr>\n",
       "      <th>4</th>\n",
       "      <td>Puerto Montt</td>\n",
       "      <td>4357</td>\n",
       "    </tr>\n",
       "    <tr>\n",
       "      <th>5</th>\n",
       "      <td>Concepcion</td>\n",
       "      <td>3993</td>\n",
       "    </tr>\n",
       "    <tr>\n",
       "      <th>6</th>\n",
       "      <td>Iquique</td>\n",
       "      <td>3747</td>\n",
       "    </tr>\n",
       "    <tr>\n",
       "      <th>7</th>\n",
       "      <td>Sao Paulo</td>\n",
       "      <td>3569</td>\n",
       "    </tr>\n",
       "    <tr>\n",
       "      <th>8</th>\n",
       "      <td>Temuco</td>\n",
       "      <td>2589</td>\n",
       "    </tr>\n",
       "    <tr>\n",
       "      <th>9</th>\n",
       "      <td>Arica</td>\n",
       "      <td>2436</td>\n",
       "    </tr>\n",
       "  </tbody>\n",
       "</table>\n",
       "</div>"
      ],
      "text/plain": [
       "      sigla_des  conteo\n",
       "0  Buenos Aires    6335\n",
       "1   Antofagasta    5786\n",
       "2          Lima    5270\n",
       "3        Calama    5146\n",
       "4  Puerto Montt    4357\n",
       "5    Concepcion    3993\n",
       "6       Iquique    3747\n",
       "7     Sao Paulo    3569\n",
       "8        Temuco    2589\n",
       "9         Arica    2436"
      ]
     },
     "execution_count": 86,
     "metadata": {},
     "output_type": "execute_result"
    }
   ],
   "source": [
    "df_scl.SIGLADES.value_counts().reset_index().rename({\"SIGLADES\":\"conteo\",\"index\":\"sigla_des\"},axis=1).head(10)"
   ]
  },
  {
   "cell_type": "markdown",
   "id": "91b1edac-6855-41b1-8ac2-218e9fc1f9fb",
   "metadata": {},
   "source": [
    "### Supuesto\n",
    "Se considera la fecha de operación la cual se realizó el vuelo, para esto es de interés saber cuantos vuelos tuvieron retraso, por lo que procedemos a calcular la diferencia entre la fecha de operación y la fecha programada del vuelo $$Fecha_O - Fecha_I$$.\n"
   ]
  },
  {
   "cell_type": "code",
   "execution_count": 73,
   "id": "260cd61b-4aa7-416e-8bef-ae1d27f10e83",
   "metadata": {},
   "outputs": [],
   "source": [
    "df_scl['dif_min'] = df_scl.apply(lambda row: diff_minutes(start=row['FECHA_I'], end=row['FECHA_O']), axis=1)"
   ]
  },
  {
   "cell_type": "code",
   "execution_count": 74,
   "id": "f601befc-1b7f-4dcb-9c9a-af1064752672",
   "metadata": {},
   "outputs": [
    {
     "data": {
      "image/png": "[encoded data removed]",
      "text/plain": [
       "<Figure size 640x480 with 1 Axes>"
      ]
     },
     "metadata": {},
     "output_type": "display_data"
    }
   ],
   "source": [
    "plt.title('Distribución del tiempo de retraso',fontsize=24)\n",
    "df_scl.dif_min.plot(kind=\"hist\",bins=30)\n",
    "plt.ylabel(\"Frecuencia\",fontsize=15)\n",
    "plt.xlabel(\"Tiempo de retraso (Fecha-O - Fecha-I)\",fontsize=15)\n",
    "plt.show()"
   ]
  },
  {
   "cell_type": "code",
   "execution_count": 68,
   "id": "ac270b4a-d09c-4a1d-8517-24ae3da94b3d",
   "metadata": {},
   "outputs": [],
   "source": [
    "# Presencia de datos negativos, datos outliers, asimetría hacia la derecha."
   ]
  },
  {
   "cell_type": "code",
   "execution_count": 90,
   "id": "8ebe4502-7d80-459c-9fad-77cb17cb2bc0",
   "metadata": {},
   "outputs": [
    {
     "name": "stderr",
     "output_type": "stream",
     "text": [
      "/Library/Frameworks/Python.framework/Versions/3.8/lib/python3.8/site-packages/seaborn/_decorators.py:36: FutureWarning: Pass the following variable as a keyword arg: x. From version 0.12, the only valid positional argument will be `data`, and passing other arguments without an explicit keyword will result in an error or misinterpretation.\n",
      "  warnings.warn(\n"
     ]
    },
    {
     "data": {
      "image/png": "[encoded data removed]",
      "text/plain": [
       "<Figure size 640x480 with 1 Axes>"
      ]
     },
     "metadata": {},
     "output_type": "display_data"
    }
   ],
   "source": [
    "plt.title('Distribución del tiempo de retraso',fontsize=24)\n",
    "sns.boxplot(df_scl.dif_min)\n",
    "plt.xlabel(\"Tiempo de retraso (Fecha-O - Fecha-I)\",fontsize=15)\n",
    "plt.show()"
   ]
  },
  {
   "cell_type": "code",
   "execution_count": 104,
   "id": "e36ad13d-e407-4549-b122-9662fc56cac6",
   "metadata": {},
   "outputs": [],
   "source": [
    "def get_outliers(df):\n",
    "    \"\"\"\n",
    "    Entrada:\n",
    "    - df float: Entrada numérica\n",
    "    Salida\n",
    "    - tuple: (Outliers, Not Outliers)\n",
    "    \"\"\"\n",
    "    q1=df.quantile(0.25)\n",
    "    q3=df.quantile(0.75)\n",
    "    IQR=q3-q1\n",
    "    outliers = df[((df<(q1-1.5*IQR)) | (df>(q3+1.5*IQR)))]\n",
    "    not_outliers = df[~((df<(q1-1.5*IQR)) | (df>(q3+1.5*IQR)))]\n",
    "    return outliers, not_outliers"
   ]
  },
  {
   "cell_type": "code",
   "execution_count": 107,
   "id": "cdb109da-2a64-4db8-ae70-90be300ad65c",
   "metadata": {},
   "outputs": [],
   "source": [
    "x, y = get_outliers(df_scl.dif_min)"
   ]
  },
  {
   "cell_type": "code",
   "execution_count": 112,
   "id": "8163041b-1c88-4c41-ac86-8807f507babd",
   "metadata": {},
   "outputs": [
    {
     "data": {
      "text/plain": [
       "0         3.0\n",
       "1         9.0\n",
       "2         9.0\n",
       "3         3.0\n",
       "4        -2.0\n",
       "         ... \n",
       "68201    46.0\n",
       "68202    16.0\n",
       "68203    40.0\n",
       "68204    13.0\n",
       "68205     9.0\n",
       "Name: dif_min, Length: 68206, dtype: float64"
      ]
     },
     "execution_count": 112,
     "metadata": {},
     "output_type": "execute_result"
    }
   ],
   "source": [
    "df_scl.dif_min"
   ]
  },
  {
   "cell_type": "code",
   "execution_count": null,
   "id": "574fd9ce-b73c-41e4-b420-ea992db11aa0",
   "metadata": {},
   "outputs": [],
   "source": []
  }
 ],
 "metadata": {
  "kernelspec": {
   "display_name": "Python 3 (ipykernel)",
   "language": "python",
   "name": "python3"
  },
  "language_info": {
   "codemirror_mode": {
    "name": "ipython",
    "version": 3
   },
   "file_extension": ".py",
   "mimetype": "text/x-python",
   "name": "python",
   "nbconvert_exporter": "python",
   "pygments_lexer": "ipython3",
   "version": "3.8.2"
  }
 },
 "nbformat": 4,
 "nbformat_minor": 5
}
